{
 "cells": [
  {
   "cell_type": "code",
   "execution_count": 17,
   "id": "2492b0a2-121c-444b-ac1b-520295ef3825",
   "metadata": {},
   "outputs": [
    {
     "name": "stdout",
     "output_type": "stream",
     "text": [
      "Requirement already satisfied: weaviate-client in /opt/conda/lib/python3.11/site-packages (3.25.3)\n",
      "Requirement already satisfied: requests<3.0.0,>=2.30.0 in /opt/conda/lib/python3.11/site-packages (from weaviate-client) (2.31.0)\n",
      "Requirement already satisfied: validators<1.0.0,>=0.21.2 in /opt/conda/lib/python3.11/site-packages (from weaviate-client) (0.22.0)\n",
      "Requirement already satisfied: authlib<2.0.0,>=1.2.1 in /opt/conda/lib/python3.11/site-packages (from weaviate-client) (1.2.1)\n",
      "Requirement already satisfied: cryptography>=3.2 in /opt/conda/lib/python3.11/site-packages (from authlib<2.0.0,>=1.2.1->weaviate-client) (41.0.4)\n",
      "Requirement already satisfied: charset-normalizer<4,>=2 in /opt/conda/lib/python3.11/site-packages (from requests<3.0.0,>=2.30.0->weaviate-client) (3.3.0)\n",
      "Requirement already satisfied: idna<4,>=2.5 in /opt/conda/lib/python3.11/site-packages (from requests<3.0.0,>=2.30.0->weaviate-client) (3.4)\n",
      "Requirement already satisfied: urllib3<3,>=1.21.1 in /opt/conda/lib/python3.11/site-packages (from requests<3.0.0,>=2.30.0->weaviate-client) (2.0.7)\n",
      "Requirement already satisfied: certifi>=2017.4.17 in /opt/conda/lib/python3.11/site-packages (from requests<3.0.0,>=2.30.0->weaviate-client) (2023.7.22)\n",
      "Requirement already satisfied: cffi>=1.12 in /opt/conda/lib/python3.11/site-packages (from cryptography>=3.2->authlib<2.0.0,>=1.2.1->weaviate-client) (1.16.0)\n",
      "Requirement already satisfied: pycparser in /opt/conda/lib/python3.11/site-packages (from cffi>=1.12->cryptography>=3.2->authlib<2.0.0,>=1.2.1->weaviate-client) (2.21)\n",
      "Note: you may need to restart the kernel to use updated packages.\n"
     ]
    }
   ],
   "source": [
    "# 必要なライブラリのインストール\n",
    "%pip install -U weaviate-client"
   ]
  },
  {
   "cell_type": "code",
   "execution_count": 24,
   "id": "ca3e01c0-e62b-4f7e-8a9e-57b2618ce184",
   "metadata": {},
   "outputs": [],
   "source": [
    "# クライアントの初期化\n",
    "import json\n",
    "import glob\n",
    "import os\n",
    "import tqdm\n",
    "import base64\n",
    "import weaviate\n",
    "\n",
    "client = weaviate.Client(\n",
    "    url = \"http://\" + os.environ.get(\"WEAVIATE_HOST\"),\n",
    "    # url = \"http://weaviate:8080\"\n",
    "    # additional_headers = {\n",
    "    #     \"X-OpenAI-Api-Key\": os.environ.get(\"OPENAI_APIKEY\")\n",
    "    # }\n",
    ")"
   ]
  },
  {
   "cell_type": "code",
   "execution_count": 19,
   "id": "647b7f2c-456c-404c-bcc4-19a49cdc8ac4",
   "metadata": {},
   "outputs": [],
   "source": [
    "# スキーマ定義\n",
    "class_obj = {\n",
    "    \"class\": \"Cifar10\",\n",
    "    \"description\": \"Each example is a 32x32 color image, associated with a label from 10 classes.\",\n",
    "    \"vectorizer\": \"img2vec-neural\",\n",
    "    \"moduleConfig\": {\n",
    "        \"img2vec-neural\": {\n",
    "            \"imageFields\": [\n",
    "                \"image\"\n",
    "            ]\n",
    "        }\n",
    "    },\n",
    "    \"properties\": [\n",
    "        {\n",
    "            \"dataType\": [\n",
    "                \"blob\"\n",
    "            ],\n",
    "            \"description\": \"color image\",\n",
    "            \"name\": \"image\"\n",
    "        },\n",
    "        {\n",
    "            \"dataType\": [\n",
    "                \"text\"\n",
    "            ],\n",
    "            \"description\": \"file name\",\n",
    "            \"name\": \"fileName\"\n",
    "        }\n",
    "    ],\n",
    "}\n",
    "\n",
    "# 初回のみcreate_classを実行します\n",
    "client.schema.create_class(class_obj)"
   ]
  },
  {
   "cell_type": "code",
   "execution_count": 20,
   "id": "3a4c865f-b317-4d4b-ae41-bacadeba8ef6",
   "metadata": {},
   "outputs": [
    {
     "data": {
      "text/plain": [
       "{'class': 'Cifar10',\n",
       " 'description': 'Each example is a 32x32 color image, associated with a label from 10 classes.',\n",
       " 'invertedIndexConfig': {'bm25': {'b': 0.75, 'k1': 1.2},\n",
       "  'cleanupIntervalSeconds': 60,\n",
       "  'stopwords': {'additions': None, 'preset': 'en', 'removals': None}},\n",
       " 'moduleConfig': {'img2vec-neural': {'imageFields': ['image']}},\n",
       " 'multiTenancyConfig': {'enabled': False},\n",
       " 'properties': [{'dataType': ['blob'],\n",
       "   'description': 'color image',\n",
       "   'indexFilterable': False,\n",
       "   'indexSearchable': False,\n",
       "   'moduleConfig': {'img2vec-neural': {}},\n",
       "   'name': 'image'},\n",
       "  {'dataType': ['text'],\n",
       "   'description': 'file name',\n",
       "   'indexFilterable': True,\n",
       "   'indexSearchable': True,\n",
       "   'moduleConfig': {'img2vec-neural': {}},\n",
       "   'name': 'fileName',\n",
       "   'tokenization': 'word'}],\n",
       " 'replicationConfig': {'factor': 1},\n",
       " 'shardingConfig': {'virtualPerPhysical': 128,\n",
       "  'desiredCount': 1,\n",
       "  'actualCount': 1,\n",
       "  'desiredVirtualCount': 128,\n",
       "  'actualVirtualCount': 128,\n",
       "  'key': '_id',\n",
       "  'strategy': 'hash',\n",
       "  'function': 'murmur3'},\n",
       " 'vectorIndexConfig': {'skip': False,\n",
       "  'cleanupIntervalSeconds': 300,\n",
       "  'maxConnections': 64,\n",
       "  'efConstruction': 128,\n",
       "  'ef': -1,\n",
       "  'dynamicEfMin': 100,\n",
       "  'dynamicEfMax': 500,\n",
       "  'dynamicEfFactor': 8,\n",
       "  'vectorCacheMaxObjects': 1000000000000,\n",
       "  'flatSearchCutoff': 40000,\n",
       "  'distance': 'cosine',\n",
       "  'pq': {'enabled': False,\n",
       "   'bitCompression': False,\n",
       "   'segments': 0,\n",
       "   'centroids': 256,\n",
       "   'trainingLimit': 100000,\n",
       "   'encoder': {'type': 'kmeans', 'distribution': 'log-normal'}}},\n",
       " 'vectorIndexType': 'hnsw',\n",
       " 'vectorizer': 'img2vec-neural'}"
      ]
     },
     "execution_count": 20,
     "metadata": {},
     "output_type": "execute_result"
    }
   ],
   "source": [
    "# スキーマ登録できているか確認\n",
    "client.schema.get(\"Cifar10\")"
   ]
  },
  {
   "cell_type": "code",
   "execution_count": 21,
   "id": "8ac8d695-da70-4c99-a424-2b7c1f7cd1a2",
   "metadata": {},
   "outputs": [],
   "source": [
    "# スキーマの削除\n",
    "# client.schema.delete_class(\"Cifar10\")"
   ]
  },
  {
   "cell_type": "code",
   "execution_count": 22,
   "id": "34126fe9-28b7-46b4-ba7c-79c360ed2631",
   "metadata": {},
   "outputs": [],
   "source": [
    "def add_image_to_weaviate(image_path):\n",
    "    # 画像をバイナリ形式で読み込む\n",
    "    with open(image_path, \"rb\") as image_file:\n",
    "        encoded_image = base64.b64encode(image_file.read()).decode('utf-8')\n",
    "\n",
    "    # Weaviateに追加するデータオブジェクトを作成\n",
    "    data_object = {\n",
    "        \"image\": encoded_image,\n",
    "        \"fileName\": os.path.basename(image_path),\n",
    "    }\n",
    "\n",
    "    # データをWeaviateに追加\n",
    "    client.data_object.create(data_object, \"Cifar10\")"
   ]
  },
  {
   "cell_type": "code",
   "execution_count": 26,
   "id": "6f274853-b19a-45bb-b4ac-fc84e8766293",
   "metadata": {},
   "outputs": [
    {
     "name": "stdout",
     "output_type": "stream",
     "text": [
      "image count: 102\n"
     ]
    },
    {
     "name": "stderr",
     "output_type": "stream",
     "text": [
      "100%|██████████| 102/102 [00:14<00:00,  7.10it/s]\n"
     ]
    }
   ],
   "source": [
    "# 画像を格納する\n",
    "img_paths = glob.glob('img/dump/*.png')\n",
    "print(f\"image count: {len(img_paths)}\")\n",
    "for img_path in tqdm.tqdm(img_paths):\n",
    "    add_image_to_weaviate(img_path)"
   ]
  },
  {
   "cell_type": "code",
   "execution_count": 12,
   "id": "9319ec2d-8bc8-43a6-beb0-ef72e2dd6879",
   "metadata": {},
   "outputs": [
    {
     "name": "stdout",
     "output_type": "stream",
     "text": [
      "{\n",
      "  \"data\": {\n",
      "    \"Get\": {\n",
      "      \"Cifar10\": [\n",
      "        {\n",
      "          \"fileName\": \"83_dog.png\"\n",
      "        },\n",
      "        {\n",
      "          \"fileName\": \"17_cat.png\"\n",
      "        }\n",
      "      ]\n",
      "    }\n",
      "  }\n",
      "}\n"
     ]
    }
   ],
   "source": [
    "# 類似度の高い画像を検索する\n",
    "near_img_path = \"img/test/39_dog.png\"\n",
    "certainty = 0.90\n",
    "\n",
    "result = (\n",
    "  client.query\n",
    "  .get(\"Cifar10\", [\"fileName\"])\n",
    "  .with_near_image({\"image\": near_img_path, \"certainty\": certainty})\n",
    "  .do()\n",
    ")\n",
    "\n",
    "print(json.dumps(result, indent=2))"
   ]
  },
  {
   "cell_type": "code",
   "execution_count": 11,
   "id": "4f2b7805-d163-4c69-b486-19407cf169e1",
   "metadata": {},
   "outputs": [
    {
     "name": "stdout",
     "output_type": "stream",
     "text": [
      "{\n",
      "  \"data\": {\n",
      "    \"Get\": {\n",
      "      \"Cifar10\": [\n",
      "        {\n",
      "          \"fileName\": \"16_truck.png\"\n",
      "        },\n",
      "        {\n",
      "          \"fileName\": \"1_truck.png\"\n",
      "        },\n",
      "        {\n",
      "          \"fileName\": \"14_truck.png\"\n",
      "        },\n",
      "        {\n",
      "          \"fileName\": \"32_automobile.png\"\n",
      "        },\n",
      "        {\n",
      "          \"fileName\": \"31_truck.png\"\n",
      "        },\n",
      "        {\n",
      "          \"fileName\": \"44_automobile.png\"\n",
      "        },\n",
      "        {\n",
      "          \"fileName\": \"76_truck.png\"\n",
      "        },\n",
      "        {\n",
      "          \"fileName\": \"71_truck.png\"\n",
      "        },\n",
      "        {\n",
      "          \"fileName\": \"60_automobile.png\"\n",
      "        },\n",
      "        {\n",
      "          \"fileName\": \"46_automobile.png\"\n",
      "        },\n",
      "        {\n",
      "          \"fileName\": \"65_automobile.png\"\n",
      "        },\n",
      "        {\n",
      "          \"fileName\": \"64_automobile.png\"\n",
      "        },\n",
      "        {\n",
      "          \"fileName\": \"61_automobile.png\"\n",
      "        },\n",
      "        {\n",
      "          \"fileName\": \"45_automobile.png\"\n",
      "        }\n",
      "      ]\n",
      "    }\n",
      "  }\n",
      "}\n"
     ]
    }
   ],
   "source": [
    "# 類似度の高い画像を検索する\n",
    "near_img_path = \"test/28_truck.png\"\n",
    "certainty = 0.88\n",
    "\n",
    "result = (\n",
    "  client.query\n",
    "  .get(\"Cifar10\", [\"fileName\"])\n",
    "  .with_near_image({\"image\": near_img_path, \"certainty\": certainty})\n",
    "  .do()\n",
    ")\n",
    "\n",
    "print(json.dumps(result, indent=2))"
   ]
  },
  {
   "cell_type": "code",
   "execution_count": null,
   "id": "fa96549a-b293-4874-9fd2-e7f7e12e996d",
   "metadata": {},
   "outputs": [],
   "source": []
  }
 ],
 "metadata": {
  "kernelspec": {
   "display_name": "Python 3 (ipykernel)",
   "language": "python",
   "name": "python3"
  },
  "language_info": {
   "codemirror_mode": {
    "name": "ipython",
    "version": 3
   },
   "file_extension": ".py",
   "mimetype": "text/x-python",
   "name": "python",
   "nbconvert_exporter": "python",
   "pygments_lexer": "ipython3",
   "version": "3.11.6"
  }
 },
 "nbformat": 4,
 "nbformat_minor": 5
}
